{
 "cells": [
  {
   "cell_type": "markdown",
   "metadata": {},
   "source": [
    "Mining!"
   ]
  },
  {
   "cell_type": "code",
   "execution_count": 65,
   "metadata": {},
   "outputs": [],
   "source": [
    "from pyelasticsearch import ElasticSearch\n",
    "from tqdm import tqdm_notebook as tqdm\n",
    "import pandas as pd\n",
    "from pyquery import PyQuery as pq"
   ]
  },
  {
   "cell_type": "code",
   "execution_count": 12,
   "metadata": {},
   "outputs": [],
   "source": [
    "client = ElasticSearch(\"http://localhost:9202\")"
   ]
  },
  {
   "cell_type": "code",
   "execution_count": 13,
   "metadata": {},
   "outputs": [
    {
     "data": {
      "text/plain": [
       "{'_shards': {'failed': 0, 'successful': 5, 'total': 5}, 'count': 1215719}"
      ]
     },
     "execution_count": 13,
     "metadata": {},
     "output_type": "execute_result"
    }
   ],
   "source": [
    "client.count(index=\"new-ethereum-miner-transaction\", doc_type=\"tx\", query=\"blockNumber:[5000000 TO 6000000]\")['count']"
   ]
  },
  {
   "cell_type": "code",
   "execution_count": 47,
   "metadata": {},
   "outputs": [],
   "source": [
    "NUMBER_OF_JOBS = 1000"
   ]
  },
  {
   "cell_type": "code",
   "execution_count": 48,
   "metadata": {},
   "outputs": [],
   "source": [
    "  def _count_by_object_or_string_query(client, query, index, doc_type):\n",
    "    \"\"\"\n",
    "    Count objects in ElasticSearch by specified query\n",
    "\n",
    "    Parameters\n",
    "    ----------\n",
    "    query : dict or str\n",
    "        ElasticSearch query\n",
    "    index : str\n",
    "        ElasticSearch index\n",
    "    doc_type : str\n",
    "        Document type\n",
    "\n",
    "    Returns\n",
    "    -------\n",
    "    int\n",
    "        Number of objects in ElasticSearch\n",
    "    \"\"\"\n",
    "    count_body = ''\n",
    "    count_parameters = {}\n",
    "    if type(query) is str:\n",
    "      count_parameters['q'] = query\n",
    "    else:\n",
    "      count_body = {\n",
    "        'query': query\n",
    "      }\n",
    "    return client.send_request('GET', [index, doc_type, '_count'], count_body, count_parameters)\n",
    "\n",
    "  def iterate(client, index, doc_type, query, per=NUMBER_OF_JOBS):\n",
    "    \"\"\"\n",
    "    Iterate through elasticsearch records\n",
    "\n",
    "    Will return a chunk of records each time\n",
    "\n",
    "    Parameters\n",
    "    ----------\n",
    "    index : str\n",
    "        ElasticSearch index\n",
    "    doc_type : str\n",
    "        Document type\n",
    "    query : dict or str\n",
    "        ElasticSearch query\n",
    "    per : int\n",
    "        Max length of chunk\n",
    "\n",
    "    Returns\n",
    "    -------\n",
    "    generator\n",
    "        Generator that returns chunks with records by specified query\n",
    "    \"\"\"\n",
    "    items_count = _count_by_object_or_string_query(client, query, index=index, doc_type=doc_type)['count']\n",
    "    pages = round(items_count / per + 0.4999)\n",
    "    scroll_id = None\n",
    "    for page in tqdm(range(pages)):\n",
    "      if not scroll_id:\n",
    "        pagination_parameters = {'scroll': '60m', 'size': per}\n",
    "        pagination_body = {}\n",
    "        if type(query) is str:\n",
    "          pagination_parameters['q'] = query\n",
    "        else:\n",
    "          pagination_body['query'] = query\n",
    "        response = client.send_request('GET', [index, doc_type, '_search'], pagination_body, pagination_parameters)\n",
    "        scroll_id = response['_scroll_id']\n",
    "        page_items = response['hits']['hits']\n",
    "      else:\n",
    "        page_items = client.send_request('POST', ['_search', 'scroll'], {'scroll': '60m', 'scroll_id': scroll_id}, {})['hits']['hits']\n",
    "      yield page_items\n"
   ]
  },
  {
   "cell_type": "code",
   "execution_count": 57,
   "metadata": {
    "scrolled": true
   },
   "outputs": [
    {
     "data": {
      "application/vnd.jupyter.widget-view+json": {
       "model_id": "b0eadbce539243fa8b2df986074ce343",
       "version_major": 2,
       "version_minor": 0
      },
      "text/plain": [
       "HBox(children=(IntProgress(value=0, max=1216), HTML(value='')))"
      ]
     },
     "metadata": {},
     "output_type": "display_data"
    },
    {
     "name": "stdout",
     "output_type": "stream",
     "text": [
      "\n"
     ]
    }
   ],
   "source": [
    "transactions = []\n",
    "for t in iterate(client, query=\"blockNumber:[5000000 TO 6000000]\", index=\"new-ethereum-miner-transaction\", doc_type=\"tx\"):\n",
    "    transactions += t"
   ]
  },
  {
   "cell_type": "code",
   "execution_count": 59,
   "metadata": {},
   "outputs": [],
   "source": [
    "transactions_df = pd.DataFrame([t[\"_source\"] for t in transactions])"
   ]
  },
  {
   "cell_type": "code",
   "execution_count": 60,
   "metadata": {},
   "outputs": [
    {
     "data": {
      "text/plain": [
       "1000001"
      ]
     },
     "execution_count": 60,
     "metadata": {},
     "output_type": "execute_result"
    }
   ],
   "source": [
    "len(transactions_df[\"blockNumber\"].unique())"
   ]
  },
  {
   "cell_type": "code",
   "execution_count": 90,
   "metadata": {},
   "outputs": [],
   "source": [
    "top_miners_info = pd.DataFrame()"
   ]
  },
  {
   "cell_type": "code",
   "execution_count": 91,
   "metadata": {},
   "outputs": [],
   "source": [
    "top_miners = transactions_df[\"author\"].value_counts().head(10)"
   ]
  },
  {
   "cell_type": "code",
   "execution_count": 92,
   "metadata": {},
   "outputs": [
    {
     "data": {
      "text/plain": [
       "0xea674fdde714fd979de3edf0f56aa9716b898ec8    312375\n",
       "0x829bd824b016326a401d083b33d092293333a830    203344\n",
       "0x52bc44d5378309ee2abf1539bf71de1b7d7be3b5    184101\n",
       "0x5a0b54d5dc17e0aadc383d2db43b0a0d3e029c4c    173429\n",
       "0xb2930b35844a230f00e51431acae96fe543a0347    119791\n",
       "0xf3b9d2c81f2b24b0fa0acaaa865b7d9ced5fc2fb     36338\n",
       "0x2a65aca4d5fc5b5c859090a6c34d164135398226     31882\n",
       "0x52e44f279f4203dcf680395379e5f9990a69f13c     16274\n",
       "0x4bb96091ee9d802ed039c4d1a5f6216f90f81b01     13980\n",
       "0x84990f5d2e09f56cabdabf6409ad31bdd8363b50     11010\n",
       "Name: author, dtype: int64"
      ]
     },
     "execution_count": 92,
     "metadata": {},
     "output_type": "execute_result"
    }
   ],
   "source": [
    "top_miners # TOP mining pools and miners here"
   ]
  },
  {
   "cell_type": "code",
   "execution_count": 98,
   "metadata": {},
   "outputs": [],
   "source": [
    "values = []\n",
    "uncles = []\n",
    "blocks = []\n",
    "for miner in top_miners.index:\n",
    "    values.append(transactions_df[transactions_df[\"author\"] == miner][\"value\"].sum())\n",
    "    uncles.append(transactions_df[(transactions_df[\"author\"] == miner) & (transactions_df[\"rewardType\"] == \"uncle\")].shape[0])\n",
    "    blocks.append(transactions_df[(transactions_df[\"author\"] == miner)  & (transactions_df[\"rewardType\"] == \"block\")].shape[0])"
   ]
  },
  {
   "cell_type": "code",
   "execution_count": 99,
   "metadata": {},
   "outputs": [],
   "source": [
    "top_miners_info[\"address\"] = top_miners.index"
   ]
  },
  {
   "cell_type": "code",
   "execution_count": 101,
   "metadata": {},
   "outputs": [],
   "source": [
    "top_miners_info[\"uncles\"] = uncles"
   ]
  },
  {
   "cell_type": "code",
   "execution_count": 102,
   "metadata": {},
   "outputs": [],
   "source": [
    "top_miners_info[\"blocks\"] = blocks"
   ]
  },
  {
   "cell_type": "code",
   "execution_count": 104,
   "metadata": {},
   "outputs": [],
   "source": [
    "top_miners_info[\"uncle rate\"] = top_miners_info[\"uncles\"] / (top_miners_info[\"blocks\"] + top_miners_info[\"uncles\"] )"
   ]
  },
  {
   "cell_type": "code",
   "execution_count": 105,
   "metadata": {},
   "outputs": [
    {
     "data": {
      "text/html": [
       "<div>\n",
       "<style scoped>\n",
       "    .dataframe tbody tr th:only-of-type {\n",
       "        vertical-align: middle;\n",
       "    }\n",
       "\n",
       "    .dataframe tbody tr th {\n",
       "        vertical-align: top;\n",
       "    }\n",
       "\n",
       "    .dataframe thead th {\n",
       "        text-align: right;\n",
       "    }\n",
       "</style>\n",
       "<table border=\"1\" class=\"dataframe\">\n",
       "  <thead>\n",
       "    <tr style=\"text-align: right;\">\n",
       "      <th></th>\n",
       "      <th>address</th>\n",
       "      <th>values</th>\n",
       "      <th>uncles</th>\n",
       "      <th>blocks</th>\n",
       "      <th>uncle rate</th>\n",
       "    </tr>\n",
       "  </thead>\n",
       "  <tbody>\n",
       "    <tr>\n",
       "      <th>0</th>\n",
       "      <td>0xea674fdde714fd979de3edf0f56aa9716b898ec8</td>\n",
       "      <td>912491.71875</td>\n",
       "      <td>41770</td>\n",
       "      <td>270605</td>\n",
       "      <td>0.133717</td>\n",
       "    </tr>\n",
       "    <tr>\n",
       "      <th>1</th>\n",
       "      <td>0x829bd824b016326a401d083b33d092293333a830</td>\n",
       "      <td>596135.06250</td>\n",
       "      <td>28583</td>\n",
       "      <td>174761</td>\n",
       "      <td>0.140565</td>\n",
       "    </tr>\n",
       "    <tr>\n",
       "      <th>2</th>\n",
       "      <td>0x52bc44d5378309ee2abf1539bf71de1b7d7be3b5</td>\n",
       "      <td>514379.43750</td>\n",
       "      <td>53345</td>\n",
       "      <td>130756</td>\n",
       "      <td>0.289759</td>\n",
       "    </tr>\n",
       "    <tr>\n",
       "      <th>3</th>\n",
       "      <td>0x5a0b54d5dc17e0aadc383d2db43b0a0d3e029c4c</td>\n",
       "      <td>509111.90625</td>\n",
       "      <td>21879</td>\n",
       "      <td>151550</td>\n",
       "      <td>0.126155</td>\n",
       "    </tr>\n",
       "    <tr>\n",
       "      <th>4</th>\n",
       "      <td>0xb2930b35844a230f00e51431acae96fe543a0347</td>\n",
       "      <td>348182.81250</td>\n",
       "      <td>18715</td>\n",
       "      <td>101076</td>\n",
       "      <td>0.156230</td>\n",
       "    </tr>\n",
       "    <tr>\n",
       "      <th>5</th>\n",
       "      <td>0xf3b9d2c81f2b24b0fa0acaaa865b7d9ced5fc2fb</td>\n",
       "      <td>97935.28125</td>\n",
       "      <td>11851</td>\n",
       "      <td>24487</td>\n",
       "      <td>0.326132</td>\n",
       "    </tr>\n",
       "    <tr>\n",
       "      <th>6</th>\n",
       "      <td>0x2a65aca4d5fc5b5c859090a6c34d164135398226</td>\n",
       "      <td>91694.62500</td>\n",
       "      <td>6222</td>\n",
       "      <td>25660</td>\n",
       "      <td>0.195157</td>\n",
       "    </tr>\n",
       "    <tr>\n",
       "      <th>7</th>\n",
       "      <td>0x52e44f279f4203dcf680395379e5f9990a69f13c</td>\n",
       "      <td>48040.50000</td>\n",
       "      <td>1864</td>\n",
       "      <td>14410</td>\n",
       "      <td>0.114539</td>\n",
       "    </tr>\n",
       "    <tr>\n",
       "      <th>8</th>\n",
       "      <td>0x4bb96091ee9d802ed039c4d1a5f6216f90f81b01</td>\n",
       "      <td>40077.65625</td>\n",
       "      <td>2609</td>\n",
       "      <td>11371</td>\n",
       "      <td>0.186624</td>\n",
       "    </tr>\n",
       "    <tr>\n",
       "      <th>9</th>\n",
       "      <td>0x84990f5d2e09f56cabdabf6409ad31bdd8363b50</td>\n",
       "      <td>32243.81250</td>\n",
       "      <td>1518</td>\n",
       "      <td>9492</td>\n",
       "      <td>0.137875</td>\n",
       "    </tr>\n",
       "  </tbody>\n",
       "</table>\n",
       "</div>"
      ],
      "text/plain": [
       "                                      address        values  uncles  blocks  \\\n",
       "0  0xea674fdde714fd979de3edf0f56aa9716b898ec8  912491.71875   41770  270605   \n",
       "1  0x829bd824b016326a401d083b33d092293333a830  596135.06250   28583  174761   \n",
       "2  0x52bc44d5378309ee2abf1539bf71de1b7d7be3b5  514379.43750   53345  130756   \n",
       "3  0x5a0b54d5dc17e0aadc383d2db43b0a0d3e029c4c  509111.90625   21879  151550   \n",
       "4  0xb2930b35844a230f00e51431acae96fe543a0347  348182.81250   18715  101076   \n",
       "5  0xf3b9d2c81f2b24b0fa0acaaa865b7d9ced5fc2fb   97935.28125   11851   24487   \n",
       "6  0x2a65aca4d5fc5b5c859090a6c34d164135398226   91694.62500    6222   25660   \n",
       "7  0x52e44f279f4203dcf680395379e5f9990a69f13c   48040.50000    1864   14410   \n",
       "8  0x4bb96091ee9d802ed039c4d1a5f6216f90f81b01   40077.65625    2609   11371   \n",
       "9  0x84990f5d2e09f56cabdabf6409ad31bdd8363b50   32243.81250    1518    9492   \n",
       "\n",
       "   uncle rate  \n",
       "0    0.133717  \n",
       "1    0.140565  \n",
       "2    0.289759  \n",
       "3    0.126155  \n",
       "4    0.156230  \n",
       "5    0.326132  \n",
       "6    0.195157  \n",
       "7    0.114539  \n",
       "8    0.186624  \n",
       "9    0.137875  "
      ]
     },
     "execution_count": 105,
     "metadata": {},
     "output_type": "execute_result"
    }
   ],
   "source": [
    "top_miners_info"
   ]
  },
  {
   "cell_type": "markdown",
   "metadata": {},
   "source": [
    "There you can find top mining pools by mined ETH (values) and uncle rate (how many blocks are mined faster than anybody). Feel free to choose one of them for your profit!"
   ]
  }
 ],
 "metadata": {
  "kernelspec": {
   "display_name": "Python 3",
   "language": "python",
   "name": "python3"
  },
  "language_info": {
   "codemirror_mode": {
    "name": "ipython",
    "version": 3
   },
   "file_extension": ".py",
   "mimetype": "text/x-python",
   "name": "python",
   "nbconvert_exporter": "python",
   "pygments_lexer": "ipython3",
   "version": "3.5.2"
  }
 },
 "nbformat": 4,
 "nbformat_minor": 2
}
